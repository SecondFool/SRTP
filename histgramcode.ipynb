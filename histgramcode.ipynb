{
 "cells": [
  {
   "cell_type": "code",
   "execution_count": 22,
   "metadata": {},
   "outputs": [],
   "source": [
    "from PIL import Image\n",
    "import math\n",
    "from collections import Counter\n",
    "from xlwt import *\n",
    "# grey = R * 0.3 + G * 0.59 + B * 0.11"
   ]
  },
  {
   "cell_type": "code",
   "execution_count": 25,
   "metadata": {},
   "outputs": [],
   "source": [
    "def hist(inputfile, outputfile, typenum):\n",
    "    im = Image.open(inputfile)\n",
    "    width = im.size[0]\n",
    "    height = im.size[1]\n",
    "    rgb_im = im.convert('RGB')\n",
    "\n",
    "    pixels  = []\n",
    "    counts = []\n",
    "    important = []\n",
    "    for i in range(0, width):\n",
    "        for j in range(0, height):\n",
    "            r, g, b = rgb_im.getpixel((i, j))\n",
    "            value = math.floor(r/32)*64 + math.floor(g/32)*8 + math.floor(b/32)\n",
    "            if (value in pixels):\n",
    "                counts[pixels.index(value)] += 1\n",
    "            else:\n",
    "                counts.append(1)\n",
    "                pixels.append(value)\n",
    "    for i in range(typenum + 1):\n",
    "        position = counts.index(max(counts))\n",
    "        important.append(pixels[position])\n",
    "        counts.remove(max(counts))\n",
    "        pixels.remove(pixels[position])\n",
    "\n",
    "    exist = [0]*len(important)\n",
    "    column = []\n",
    "    for i in range(0, width):\n",
    "        column = []\n",
    "        for j in range(0, height):\n",
    "            r, g, b = rgb_im.getpixel((i, j))\n",
    "            value = math.floor(r/32)*64 + math.floor(g/32)*8 + math.floor(b/32)\n",
    "            column.append(value)\n",
    "        for k in range(len(important)):\n",
    "            if important[k] in column:\n",
    "                exist[k] += 1\n",
    "\n",
    "    background = important[exist.index(max(exist))]\n",
    "\n",
    "    important.remove(background)\n",
    "    propotions = []\n",
    "    for i in range(len(important)):\n",
    "        propotions.append([])\n",
    "    for i in range(0, width):\n",
    "        column = []\n",
    "        for j in range(0, height):\n",
    "            r, g, b = rgb_im.getpixel((i, j))\n",
    "            value = math.floor(r/32)*64 + math.floor(g/32)*8 + math.floor(b/32)\n",
    "            column.append(value)\n",
    "        for k in range(len(important)):\n",
    "            propotions[k].append(column.count(important[k])/(column.count(important[k])+column.count(background)))\n",
    "    #print(propotions)\n",
    "    output = []\n",
    "    for k in range(len(important)):\n",
    "        output.append([])\n",
    "        count = []\n",
    "        for i in range(len(propotions[k])):\n",
    "            if propotions[k][i] == 0:\n",
    "                count.append(-1)\n",
    "            else:\n",
    "                vnum = 0\n",
    "                for j in range(0, 10):\n",
    "                    if i+j < len(propotions[k]):\n",
    "                        if ((propotions[k][i+j] > propotions[k][i]*0.9) and (propotions[k][i+j] < propotions[k][i]*1.1)):\n",
    "                            vnum += 1\n",
    "                count.append(vnum)\n",
    "        #print(count)\n",
    "        new = 1\n",
    "        for i in range(len(count)-3):\n",
    "            if count[i] + count[i+1] + count[i+2] == -3:\n",
    "                new = 1\n",
    "            elif count[i] == max(count) and new == 1:\n",
    "                new = 0\n",
    "                output[k].append(sum(propotions[k][i:i + max(count)])/max(count))\n",
    "\n",
    "    print(output)\n",
    "    file = Workbook(encoding = 'utf-8')\n",
    "    table = file.add_sheet('data')\n",
    "    for k in range(len(important)):\n",
    "        for i,p in enumerate(output[k]):\n",
    "            table.write(k,i,p)\n",
    "            print(k,i,p)\n",
    "    file.save(outputfile)\n"
   ]
  },
  {
   "cell_type": "code",
   "execution_count": 26,
   "metadata": {},
   "outputs": [
    {
     "name": "stdout",
     "output_type": "stream",
     "text": [
      "[[0.2172590740238407, 0.9624261213090908, 0.21973726199340496], [0.1889134757014304, 0.1908909829158048, 0.44799395467857134]]\n",
      "0 0 0.2172590740238407\n",
      "0 1 0.9624261213090908\n",
      "0 2 0.21973726199340496\n",
      "1 0 0.1889134757014304\n",
      "1 1 0.1908909829158048\n",
      "1 2 0.44799395467857134\n"
     ]
    }
   ],
   "source": [
    "hist('222.png', 'hist.xls', 2)"
   ]
  },
  {
   "cell_type": "code",
   "execution_count": null,
   "metadata": {},
   "outputs": [],
   "source": []
  }
 ],
 "metadata": {
  "kernelspec": {
   "display_name": "Python 3",
   "language": "python",
   "name": "python3"
  },
  "language_info": {
   "codemirror_mode": {
    "name": "ipython",
    "version": 3
   },
   "file_extension": ".py",
   "mimetype": "text/x-python",
   "name": "python",
   "nbconvert_exporter": "python",
   "pygments_lexer": "ipython3",
   "version": "3.7.0"
  }
 },
 "nbformat": 4,
 "nbformat_minor": 4
}
